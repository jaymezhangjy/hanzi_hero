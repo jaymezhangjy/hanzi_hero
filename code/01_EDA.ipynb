{
 "cells": [
  {
   "cell_type": "markdown",
   "metadata": {},
   "source": [
    "<img src='../images/hanzi_hero_icon.png' style=\"float: left; margin: 20px; height: 55px\">\n",
    "\n",
    "# Hanzi Hero: Empowering Kids to Master Chinese Characters\n",
    "<div style=\"text-align: right\"> <H3> By Jayme Zhang </div>\n",
    "\n",
    "---"
   ]
  },
  {
   "cell_type": "markdown",
   "metadata": {},
   "source": [
    "## Introduction to Problem Statement\n",
    "While Chinese language is gaining popularity, its complex writing system presents a significant hurdle to fluency. Memorizing characters is essential for reading and pronunciation. Schools have been conducting Chinese spelling tests for students, aiming to build a strong foundation early on. However, this approach might prove challenging for Singaporean parents who juggle busy schedules and may not be proficient in Mandarin themselves.\n",
    "\n",
    "This project aims to build an image recognition model for handwritten Chinese characters, so that we can assist students and non-Chinese learners better with their learning journey.\n",
    "\n",
    "## Problem Statement\n",
    "\n",
    "#### *How might we design a tool to automate the revision of Chinese spelling test for children, alleviating the current reliance on adult supervision?*"
   ]
  },
  {
   "cell_type": "markdown",
   "metadata": {},
   "source": [
    "Content:\n",
    "  \n",
    "[01_EDA](01_EDA.ipynb)  \n",
    "[02_Self_Trained_Model_Binary](02_Self_Trained_Model_Binary.ipynb)  \n",
    "[03_Self_Trained_Model_Multiclass](03_Self_Trained_Model_Multiclass.ipynb)  \n",
    "[04_Pre_Trained_Model_Multiclass](04_Pre_Trained_Model_Multiclass.ipynb)  \n",
    "[05_SVM_Multiclass](05_SVM_Multiclass.ipynb)  \n",
    "[06_Self_Trained_Model_Multiclass_HP_Tune](06_Self_Trained_Model_Multiclass_HP_Tune.ipynb)  "
   ]
  },
  {
   "cell_type": "markdown",
   "metadata": {},
   "source": [
    "## 1. Exploratory Data Analysis"
   ]
  },
  {
   "cell_type": "code",
   "execution_count": 33,
   "metadata": {},
   "outputs": [],
   "source": [
    "# Import libraries and modules\n",
    "import numpy as np\n",
    "import pandas as pd\n",
    "import matplotlib.pyplot as plt\n",
    "import seaborn as sns\n",
    "import os\n",
    "import random\n",
    "from PIL import Image"
   ]
  },
  {
   "cell_type": "markdown",
   "metadata": {},
   "source": [
    "### 1.1  Source of Data"
   ]
  },
  {
   "cell_type": "markdown",
   "metadata": {},
   "source": [
    "Our project focuses on creating an image recognition model for handwritten Chinese characters.  \n",
    "  \n",
    "The data originates from the CASIA Offline database, a public resource developed by the Chinese National Laboratory of Pattern Recognition (NLPR) and the Institute of Automation of Chinese Academy of Sciences (CASIA). This dataset consists of handwritten samples contributed by 1,020 individuals between 2007 and 2010.  \n",
    "  \n",
    "The original custom-encoded binary files have been conveniently converted to PNG image files for ease of use in our model. Both the original files and PNG image files can be downloaded from [Kaggle](https://www.kaggle.com/datasets/pascalbliem/handwritten-chinese-character-hanzi-datasets/data).  \n",
    "  \n",
    "Upon downloading, save both `Test` and `Train` folders into this empty [`raw_data`](../data/raw_data/) folder, and we are good to run the notebook.\n",
    "  \n",
    "*This dataset from Kaggle is 14GB in size. This is the only notebook which will require the entire dataset. From the next notebook onwards, we will use extracts from this data set, and the files are uploaded in GitHub.*"
   ]
  },
  {
   "cell_type": "markdown",
   "metadata": {},
   "source": [
    "### 1.2 Explore Dataset"
   ]
  },
  {
   "cell_type": "markdown",
   "metadata": {},
   "source": [
    "#### 1.2.1 Directory of Dataset"
   ]
  },
  {
   "cell_type": "markdown",
   "metadata": {},
   "source": [
    "This data set is split into `test` and `train` folder, with 7330 sub-folder within each folder, comprising of labeled PNG images for a comprehensive set of written characters. It encompasses all 6,763 characters from the GB2312 encoding standard, along with alphanumeric characters and symbols. Each image is conveniently grouped within a sub-folder named after the character it represents."
   ]
  },
  {
   "cell_type": "markdown",
   "metadata": {},
   "source": [
    "```\n",
    ".\n",
    "└── data/\n",
    "    └── raw_data/\n",
    "        ├── Test/\n",
    "        │   ├── #\n",
    "        │   ├── 2\n",
    "        │   ├── C\n",
    "        │   ├── 我\n",
    "        │   ├── 花\n",
    "        │   └── ...\n",
    "        └── Test/\n",
    "            ├── #\n",
    "            ├── 2\n",
    "            ├── C\n",
    "            ├── 我\n",
    "            ├── 花\n",
    "            └── ...\n",
    "\n",
    "```"
   ]
  },
  {
   "cell_type": "markdown",
   "metadata": {},
   "source": [
    "#### 1.2.2 Number of Images for Test Dataset"
   ]
  },
  {
   "cell_type": "markdown",
   "metadata": {},
   "source": [
    "We will explore the number of images within each sub-folder named after a character for the Test dataset.  \n",
    "To facilitate this, we will define a function to compile the name of sub-folder and number of images into a dataframe for easy processing."
   ]
  },
  {
   "cell_type": "code",
   "execution_count": 2,
   "metadata": {},
   "outputs": [],
   "source": [
    "# Function to compile name of folder and number of images within into a dataframe\n",
    "def count_files_in_subfolder(root_folder):\n",
    "    folder_names = []\n",
    "    file_counts = []\n",
    "\n",
    "    for root, dirs, files in os.walk(root_folder):\n",
    "        for directory in dirs:\n",
    "            folder_path = os.path.join(root, directory)\n",
    "            folder_names.append(directory)\n",
    "            file_counts.append(len(os.listdir(folder_path)))\n",
    "\n",
    "    df = pd.DataFrame({\n",
    "        'Character': folder_names,\n",
    "        'Number of images': file_counts\n",
    "    })\n",
    "\n",
    "    return df"
   ]
  },
  {
   "cell_type": "code",
   "execution_count": 3,
   "metadata": {},
   "outputs": [],
   "source": [
    "# To tabulate number of images in test folder into a dataframe\n",
    "df_test = count_files_in_subfolder('../data/raw_data/Test')"
   ]
  },
  {
   "cell_type": "code",
   "execution_count": 4,
   "metadata": {},
   "outputs": [
    {
     "data": {
      "text/html": [
       "<div>\n",
       "<style scoped>\n",
       "    .dataframe tbody tr th:only-of-type {\n",
       "        vertical-align: middle;\n",
       "    }\n",
       "\n",
       "    .dataframe tbody tr th {\n",
       "        vertical-align: top;\n",
       "    }\n",
       "\n",
       "    .dataframe thead th {\n",
       "        text-align: right;\n",
       "    }\n",
       "</style>\n",
       "<table border=\"1\" class=\"dataframe\">\n",
       "  <thead>\n",
       "    <tr style=\"text-align: right;\">\n",
       "      <th></th>\n",
       "      <th>Character</th>\n",
       "      <th>Number of images</th>\n",
       "    </tr>\n",
       "  </thead>\n",
       "  <tbody>\n",
       "    <tr>\n",
       "      <th>0</th>\n",
       "      <td>理</td>\n",
       "      <td>143</td>\n",
       "    </tr>\n",
       "    <tr>\n",
       "      <th>1</th>\n",
       "      <td>窆</td>\n",
       "      <td>59</td>\n",
       "    </tr>\n",
       "    <tr>\n",
       "      <th>2</th>\n",
       "      <td>蓼</td>\n",
       "      <td>60</td>\n",
       "    </tr>\n",
       "    <tr>\n",
       "      <th>3</th>\n",
       "      <td>锥</td>\n",
       "      <td>144</td>\n",
       "    </tr>\n",
       "    <tr>\n",
       "      <th>4</th>\n",
       "      <td>斓</td>\n",
       "      <td>60</td>\n",
       "    </tr>\n",
       "    <tr>\n",
       "      <th>...</th>\n",
       "      <td>...</td>\n",
       "      <td>...</td>\n",
       "    </tr>\n",
       "    <tr>\n",
       "      <th>7325</th>\n",
       "      <td>鸥</td>\n",
       "      <td>143</td>\n",
       "    </tr>\n",
       "    <tr>\n",
       "      <th>7326</th>\n",
       "      <td>伴</td>\n",
       "      <td>142</td>\n",
       "    </tr>\n",
       "    <tr>\n",
       "      <th>7327</th>\n",
       "      <td>缆</td>\n",
       "      <td>142</td>\n",
       "    </tr>\n",
       "    <tr>\n",
       "      <th>7328</th>\n",
       "      <td>;</td>\n",
       "      <td>201</td>\n",
       "    </tr>\n",
       "    <tr>\n",
       "      <th>7329</th>\n",
       "      <td>滟</td>\n",
       "      <td>59</td>\n",
       "    </tr>\n",
       "  </tbody>\n",
       "</table>\n",
       "<p>7330 rows × 2 columns</p>\n",
       "</div>"
      ],
      "text/plain": [
       "     Character  Number of images\n",
       "0            理               143\n",
       "1            窆                59\n",
       "2            蓼                60\n",
       "3            锥               144\n",
       "4            斓                60\n",
       "...        ...               ...\n",
       "7325         鸥               143\n",
       "7326         伴               142\n",
       "7327         缆               142\n",
       "7328         ;               201\n",
       "7329         滟                59\n",
       "\n",
       "[7330 rows x 2 columns]"
      ]
     },
     "metadata": {},
     "output_type": "display_data"
    }
   ],
   "source": [
    "# First look at df_test\n",
    "display(df_test)"
   ]
  },
  {
   "cell_type": "code",
   "execution_count": 5,
   "metadata": {},
   "outputs": [
    {
     "data": {
      "text/html": [
       "<div>\n",
       "<style scoped>\n",
       "    .dataframe tbody tr th:only-of-type {\n",
       "        vertical-align: middle;\n",
       "    }\n",
       "\n",
       "    .dataframe tbody tr th {\n",
       "        vertical-align: top;\n",
       "    }\n",
       "\n",
       "    .dataframe thead th {\n",
       "        text-align: right;\n",
       "    }\n",
       "</style>\n",
       "<table border=\"1\" class=\"dataframe\">\n",
       "  <thead>\n",
       "    <tr style=\"text-align: right;\">\n",
       "      <th></th>\n",
       "      <th>Number of images</th>\n",
       "    </tr>\n",
       "  </thead>\n",
       "  <tbody>\n",
       "    <tr>\n",
       "      <th>count</th>\n",
       "      <td>7330.000000</td>\n",
       "    </tr>\n",
       "    <tr>\n",
       "      <th>mean</th>\n",
       "      <td>105.937653</td>\n",
       "    </tr>\n",
       "    <tr>\n",
       "      <th>std</th>\n",
       "      <td>46.035184</td>\n",
       "    </tr>\n",
       "    <tr>\n",
       "      <th>min</th>\n",
       "      <td>54.000000</td>\n",
       "    </tr>\n",
       "    <tr>\n",
       "      <th>25%</th>\n",
       "      <td>60.000000</td>\n",
       "    </tr>\n",
       "    <tr>\n",
       "      <th>50%</th>\n",
       "      <td>140.000000</td>\n",
       "    </tr>\n",
       "    <tr>\n",
       "      <th>75%</th>\n",
       "      <td>143.000000</td>\n",
       "    </tr>\n",
       "    <tr>\n",
       "      <th>max</th>\n",
       "      <td>404.000000</td>\n",
       "    </tr>\n",
       "  </tbody>\n",
       "</table>\n",
       "</div>"
      ],
      "text/plain": [
       "       Number of images\n",
       "count       7330.000000\n",
       "mean         105.937653\n",
       "std           46.035184\n",
       "min           54.000000\n",
       "25%           60.000000\n",
       "50%          140.000000\n",
       "75%          143.000000\n",
       "max          404.000000"
      ]
     },
     "execution_count": 5,
     "metadata": {},
     "output_type": "execute_result"
    }
   ],
   "source": [
    "# Summary statistics of df_test\n",
    "df_test.describe()"
   ]
  },
  {
   "cell_type": "code",
   "execution_count": 24,
   "metadata": {},
   "outputs": [
    {
     "data": {
      "image/png": "[encoded data removed]",
      "text/plain": [
       "<Figure size 1500x300 with 1 Axes>"
      ]
     },
     "metadata": {},
     "output_type": "display_data"
    }
   ],
   "source": [
    "# Key summary statistics in the form of boxplot\n",
    "plt.figure(figsize=(15,3))\n",
    "sns.boxplot(df_test['Number of images'], orient='h')\n",
    "plt.title('Number of Images for Test Dataset')\n",
    "plt.xlabel('Number of images');"
   ]
  },
  {
   "cell_type": "markdown",
   "metadata": {},
   "source": [
    "Based on the summary statistics, 50% of our sub-folders have between 60 to 143 images. In other words, the interquartile range is 83.  \n",
    "However, the mean is 106 whereas the median is 140. This difference is due to the outliers with more than 400 images for several sub-folders, as seen from the above boxplot.  \n",
    "We will take a further look into these outliers."
   ]
  },
  {
   "cell_type": "code",
   "execution_count": 20,
   "metadata": {},
   "outputs": [
    {
     "data": {
      "text/html": [
       "<div>\n",
       "<style scoped>\n",
       "    .dataframe tbody tr th:only-of-type {\n",
       "        vertical-align: middle;\n",
       "    }\n",
       "\n",
       "    .dataframe tbody tr th {\n",
       "        vertical-align: top;\n",
       "    }\n",
       "\n",
       "    .dataframe thead th {\n",
       "        text-align: right;\n",
       "    }\n",
       "</style>\n",
       "<table border=\"1\" class=\"dataframe\">\n",
       "  <thead>\n",
       "    <tr style=\"text-align: right;\">\n",
       "      <th></th>\n",
       "      <th>Character</th>\n",
       "      <th>Number of images</th>\n",
       "    </tr>\n",
       "  </thead>\n",
       "  <tbody>\n",
       "    <tr>\n",
       "      <th>2654</th>\n",
       "      <td>R</td>\n",
       "      <td>404</td>\n",
       "    </tr>\n",
       "    <tr>\n",
       "      <th>2702</th>\n",
       "      <td>U</td>\n",
       "      <td>404</td>\n",
       "    </tr>\n",
       "    <tr>\n",
       "      <th>2883</th>\n",
       "      <td>I</td>\n",
       "      <td>403</td>\n",
       "    </tr>\n",
       "    <tr>\n",
       "      <th>2933</th>\n",
       "      <td>N</td>\n",
       "      <td>402</td>\n",
       "    </tr>\n",
       "    <tr>\n",
       "      <th>3020</th>\n",
       "      <td>G</td>\n",
       "      <td>402</td>\n",
       "    </tr>\n",
       "    <tr>\n",
       "      <th>3137</th>\n",
       "      <td>Z</td>\n",
       "      <td>402</td>\n",
       "    </tr>\n",
       "    <tr>\n",
       "      <th>3328</th>\n",
       "      <td>T</td>\n",
       "      <td>404</td>\n",
       "    </tr>\n",
       "    <tr>\n",
       "      <th>3363</th>\n",
       "      <td>S</td>\n",
       "      <td>404</td>\n",
       "    </tr>\n",
       "    <tr>\n",
       "      <th>3439</th>\n",
       "      <td>A</td>\n",
       "      <td>403</td>\n",
       "    </tr>\n",
       "    <tr>\n",
       "      <th>3526</th>\n",
       "      <td>F</td>\n",
       "      <td>404</td>\n",
       "    </tr>\n",
       "    <tr>\n",
       "      <th>3555</th>\n",
       "      <td>O</td>\n",
       "      <td>404</td>\n",
       "    </tr>\n",
       "    <tr>\n",
       "      <th>3623</th>\n",
       "      <td>H</td>\n",
       "      <td>403</td>\n",
       "    </tr>\n",
       "    <tr>\n",
       "      <th>6248</th>\n",
       "      <td>M</td>\n",
       "      <td>404</td>\n",
       "    </tr>\n",
       "    <tr>\n",
       "      <th>6343</th>\n",
       "      <td>J</td>\n",
       "      <td>404</td>\n",
       "    </tr>\n",
       "    <tr>\n",
       "      <th>6434</th>\n",
       "      <td>C</td>\n",
       "      <td>403</td>\n",
       "    </tr>\n",
       "    <tr>\n",
       "      <th>6482</th>\n",
       "      <td>D</td>\n",
       "      <td>404</td>\n",
       "    </tr>\n",
       "    <tr>\n",
       "      <th>6558</th>\n",
       "      <td>V</td>\n",
       "      <td>404</td>\n",
       "    </tr>\n",
       "    <tr>\n",
       "      <th>6625</th>\n",
       "      <td>Q</td>\n",
       "      <td>402</td>\n",
       "    </tr>\n",
       "    <tr>\n",
       "      <th>6677</th>\n",
       "      <td>X</td>\n",
       "      <td>403</td>\n",
       "    </tr>\n",
       "    <tr>\n",
       "      <th>6839</th>\n",
       "      <td>E</td>\n",
       "      <td>403</td>\n",
       "    </tr>\n",
       "    <tr>\n",
       "      <th>6904</th>\n",
       "      <td>B</td>\n",
       "      <td>404</td>\n",
       "    </tr>\n",
       "    <tr>\n",
       "      <th>6937</th>\n",
       "      <td>K</td>\n",
       "      <td>404</td>\n",
       "    </tr>\n",
       "    <tr>\n",
       "      <th>7020</th>\n",
       "      <td>L</td>\n",
       "      <td>403</td>\n",
       "    </tr>\n",
       "    <tr>\n",
       "      <th>7136</th>\n",
       "      <td>Y</td>\n",
       "      <td>404</td>\n",
       "    </tr>\n",
       "    <tr>\n",
       "      <th>7236</th>\n",
       "      <td>P</td>\n",
       "      <td>404</td>\n",
       "    </tr>\n",
       "    <tr>\n",
       "      <th>7321</th>\n",
       "      <td>W</td>\n",
       "      <td>402</td>\n",
       "    </tr>\n",
       "  </tbody>\n",
       "</table>\n",
       "</div>"
      ],
      "text/plain": [
       "     Character  Number of images\n",
       "2654         R               404\n",
       "2702         U               404\n",
       "2883         I               403\n",
       "2933         N               402\n",
       "3020         G               402\n",
       "3137         Z               402\n",
       "3328         T               404\n",
       "3363         S               404\n",
       "3439         A               403\n",
       "3526         F               404\n",
       "3555         O               404\n",
       "3623         H               403\n",
       "6248         M               404\n",
       "6343         J               404\n",
       "6434         C               403\n",
       "6482         D               404\n",
       "6558         V               404\n",
       "6625         Q               402\n",
       "6677         X               403\n",
       "6839         E               403\n",
       "6904         B               404\n",
       "6937         K               404\n",
       "7020         L               403\n",
       "7136         Y               404\n",
       "7236         P               404\n",
       "7321         W               402"
      ]
     },
     "execution_count": 20,
     "metadata": {},
     "output_type": "execute_result"
    }
   ],
   "source": [
    "# To filter out rows in df_test where number of images is more than 400\n",
    "df_test[df_test['Number of images']>400]"
   ]
  },
  {
   "cell_type": "markdown",
   "metadata": {},
   "source": [
    "We found out these outliers are actually characters of the English alphabet."
   ]
  },
  {
   "cell_type": "code",
   "execution_count": 22,
   "metadata": {},
   "outputs": [
    {
     "data": {
      "text/html": [
       "<div>\n",
       "<style scoped>\n",
       "    .dataframe tbody tr th:only-of-type {\n",
       "        vertical-align: middle;\n",
       "    }\n",
       "\n",
       "    .dataframe tbody tr th {\n",
       "        vertical-align: top;\n",
       "    }\n",
       "\n",
       "    .dataframe thead th {\n",
       "        text-align: right;\n",
       "    }\n",
       "</style>\n",
       "<table border=\"1\" class=\"dataframe\">\n",
       "  <thead>\n",
       "    <tr style=\"text-align: right;\">\n",
       "      <th></th>\n",
       "      <th>Character</th>\n",
       "      <th>Number of images</th>\n",
       "    </tr>\n",
       "  </thead>\n",
       "  <tbody>\n",
       "    <tr>\n",
       "      <th>43</th>\n",
       "      <td>⑩</td>\n",
       "      <td>201</td>\n",
       "    </tr>\n",
       "    <tr>\n",
       "      <th>66</th>\n",
       "      <td>△</td>\n",
       "      <td>202</td>\n",
       "    </tr>\n",
       "    <tr>\n",
       "      <th>116</th>\n",
       "      <td>⑧</td>\n",
       "      <td>201</td>\n",
       "    </tr>\n",
       "    <tr>\n",
       "      <th>121</th>\n",
       "      <td>full_stop</td>\n",
       "      <td>202</td>\n",
       "    </tr>\n",
       "    <tr>\n",
       "      <th>188</th>\n",
       "      <td>①</td>\n",
       "      <td>202</td>\n",
       "    </tr>\n",
       "    <tr>\n",
       "      <th>...</th>\n",
       "      <td>...</td>\n",
       "      <td>...</td>\n",
       "    </tr>\n",
       "    <tr>\n",
       "      <th>7139</th>\n",
       "      <td>5</td>\n",
       "      <td>202</td>\n",
       "    </tr>\n",
       "    <tr>\n",
       "      <th>7176</th>\n",
       "      <td>greater_than</td>\n",
       "      <td>201</td>\n",
       "    </tr>\n",
       "    <tr>\n",
       "      <th>7190</th>\n",
       "      <td>@</td>\n",
       "      <td>198</td>\n",
       "    </tr>\n",
       "    <tr>\n",
       "      <th>7241</th>\n",
       "      <td>℃</td>\n",
       "      <td>202</td>\n",
       "    </tr>\n",
       "    <tr>\n",
       "      <th>7328</th>\n",
       "      <td>;</td>\n",
       "      <td>201</td>\n",
       "    </tr>\n",
       "  </tbody>\n",
       "</table>\n",
       "<p>119 rows × 2 columns</p>\n",
       "</div>"
      ],
      "text/plain": [
       "         Character  Number of images\n",
       "43               ⑩               201\n",
       "66               △               202\n",
       "116              ⑧               201\n",
       "121      full_stop               202\n",
       "188              ①               202\n",
       "...            ...               ...\n",
       "7139             5               202\n",
       "7176  greater_than               201\n",
       "7190             @               198\n",
       "7241             ℃               202\n",
       "7328             ;               201\n",
       "\n",
       "[119 rows x 2 columns]"
      ]
     },
     "execution_count": 22,
     "metadata": {},
     "output_type": "execute_result"
    }
   ],
   "source": [
    "# To filter out rows in df_test where number of images is between 150 and 250\n",
    "df_test[(df_test['Number of images']>150) & (df_test['Number of images']<250)]"
   ]
  },
  {
   "cell_type": "markdown",
   "metadata": {},
   "source": [
    "We took a closer look at the characters beyond the 75% percentile, and found out that they include numbers, punctuation and symbols.  \n",
    "Since we are focusing on Chinese characters, these outliers will not affect our result."
   ]
  },
  {
   "cell_type": "markdown",
   "metadata": {},
   "source": [
    "#### 1.2.3 Number of Images for Train Dataset"
   ]
  },
  {
   "cell_type": "markdown",
   "metadata": {},
   "source": [
    "We will explore the number of images within each sub-folder named after a character for the Train dataset.  \n",
    "We will be using the function which we have previously defined above."
   ]
  },
  {
   "cell_type": "code",
   "execution_count": 62,
   "metadata": {},
   "outputs": [],
   "source": [
    "# To tabulate number of images in train folder into a dataframe\n",
    "df_train = count_files_in_subfolder('../data/raw_data/Train')"
   ]
  },
  {
   "cell_type": "code",
   "execution_count": 63,
   "metadata": {},
   "outputs": [
    {
     "data": {
      "text/html": [
       "<div>\n",
       "<style scoped>\n",
       "    .dataframe tbody tr th:only-of-type {\n",
       "        vertical-align: middle;\n",
       "    }\n",
       "\n",
       "    .dataframe tbody tr th {\n",
       "        vertical-align: top;\n",
       "    }\n",
       "\n",
       "    .dataframe thead th {\n",
       "        text-align: right;\n",
       "    }\n",
       "</style>\n",
       "<table border=\"1\" class=\"dataframe\">\n",
       "  <thead>\n",
       "    <tr style=\"text-align: right;\">\n",
       "      <th></th>\n",
       "      <th>Character</th>\n",
       "      <th>Number of images</th>\n",
       "    </tr>\n",
       "  </thead>\n",
       "  <tbody>\n",
       "    <tr>\n",
       "      <th>0</th>\n",
       "      <td>理</td>\n",
       "      <td>597</td>\n",
       "    </tr>\n",
       "    <tr>\n",
       "      <th>1</th>\n",
       "      <td>窆</td>\n",
       "      <td>239</td>\n",
       "    </tr>\n",
       "    <tr>\n",
       "      <th>2</th>\n",
       "      <td>蓼</td>\n",
       "      <td>240</td>\n",
       "    </tr>\n",
       "    <tr>\n",
       "      <th>3</th>\n",
       "      <td>锥</td>\n",
       "      <td>599</td>\n",
       "    </tr>\n",
       "    <tr>\n",
       "      <th>4</th>\n",
       "      <td>斓</td>\n",
       "      <td>240</td>\n",
       "    </tr>\n",
       "    <tr>\n",
       "      <th>...</th>\n",
       "      <td>...</td>\n",
       "      <td>...</td>\n",
       "    </tr>\n",
       "    <tr>\n",
       "      <th>7325</th>\n",
       "      <td>鸥</td>\n",
       "      <td>598</td>\n",
       "    </tr>\n",
       "    <tr>\n",
       "      <th>7326</th>\n",
       "      <td>伴</td>\n",
       "      <td>602</td>\n",
       "    </tr>\n",
       "    <tr>\n",
       "      <th>7327</th>\n",
       "      <td>缆</td>\n",
       "      <td>597</td>\n",
       "    </tr>\n",
       "    <tr>\n",
       "      <th>7328</th>\n",
       "      <td>;</td>\n",
       "      <td>856</td>\n",
       "    </tr>\n",
       "    <tr>\n",
       "      <th>7329</th>\n",
       "      <td>滟</td>\n",
       "      <td>238</td>\n",
       "    </tr>\n",
       "  </tbody>\n",
       "</table>\n",
       "<p>7330 rows × 2 columns</p>\n",
       "</div>"
      ],
      "text/plain": [
       "     Character  Number of images\n",
       "0            理               597\n",
       "1            窆               239\n",
       "2            蓼               240\n",
       "3            锥               599\n",
       "4            斓               240\n",
       "...        ...               ...\n",
       "7325         鸥               598\n",
       "7326         伴               602\n",
       "7327         缆               597\n",
       "7328         ;               856\n",
       "7329         滟               238\n",
       "\n",
       "[7330 rows x 2 columns]"
      ]
     },
     "metadata": {},
     "output_type": "display_data"
    }
   ],
   "source": [
    "# First look at df_train\n",
    "display(df_train)"
   ]
  },
  {
   "cell_type": "code",
   "execution_count": 64,
   "metadata": {},
   "outputs": [
    {
     "data": {
      "text/html": [
       "<div>\n",
       "<style scoped>\n",
       "    .dataframe tbody tr th:only-of-type {\n",
       "        vertical-align: middle;\n",
       "    }\n",
       "\n",
       "    .dataframe tbody tr th {\n",
       "        vertical-align: top;\n",
       "    }\n",
       "\n",
       "    .dataframe thead th {\n",
       "        text-align: right;\n",
       "    }\n",
       "</style>\n",
       "<table border=\"1\" class=\"dataframe\">\n",
       "  <thead>\n",
       "    <tr style=\"text-align: right;\">\n",
       "      <th></th>\n",
       "      <th>Number of images</th>\n",
       "    </tr>\n",
       "  </thead>\n",
       "  <tbody>\n",
       "    <tr>\n",
       "      <th>count</th>\n",
       "      <td>7330.00000</td>\n",
       "    </tr>\n",
       "    <tr>\n",
       "      <th>mean</th>\n",
       "      <td>439.70573</td>\n",
       "    </tr>\n",
       "    <tr>\n",
       "      <th>std</th>\n",
       "      <td>198.81263</td>\n",
       "    </tr>\n",
       "    <tr>\n",
       "      <th>min</th>\n",
       "      <td>225.00000</td>\n",
       "    </tr>\n",
       "    <tr>\n",
       "      <th>25%</th>\n",
       "      <td>239.00000</td>\n",
       "    </tr>\n",
       "    <tr>\n",
       "      <th>50%</th>\n",
       "      <td>594.00000</td>\n",
       "    </tr>\n",
       "    <tr>\n",
       "      <th>75%</th>\n",
       "      <td>599.00000</td>\n",
       "    </tr>\n",
       "    <tr>\n",
       "      <th>max</th>\n",
       "      <td>1708.00000</td>\n",
       "    </tr>\n",
       "  </tbody>\n",
       "</table>\n",
       "</div>"
      ],
      "text/plain": [
       "       Number of images\n",
       "count        7330.00000\n",
       "mean          439.70573\n",
       "std           198.81263\n",
       "min           225.00000\n",
       "25%           239.00000\n",
       "50%           594.00000\n",
       "75%           599.00000\n",
       "max          1708.00000"
      ]
     },
     "execution_count": 64,
     "metadata": {},
     "output_type": "execute_result"
    }
   ],
   "source": [
    "# Summary statistics of df_train\n",
    "df_train.describe()"
   ]
  },
  {
   "cell_type": "code",
   "execution_count": 65,
   "metadata": {},
   "outputs": [
    {
     "data": {
      "image/png": "[encoded data removed]",
      "text/plain": [
       "<Figure size 1500x300 with 1 Axes>"
      ]
     },
     "metadata": {},
     "output_type": "display_data"
    }
   ],
   "source": [
    "# Key summary statistics in the form of boxplot\n",
    "plt.figure(figsize=(15,3))\n",
    "sns.boxplot(df_train['Number of images'], orient='h')\n",
    "plt.title('Number of Images for Train Dataset')\n",
    "plt.xlabel('Number of images');"
   ]
  },
  {
   "cell_type": "markdown",
   "metadata": {},
   "source": [
    "Based on the summary statistics, 50% of our sub-folders have between 239 to 599 images. In other words, the interquartile range is 360.  \n",
    "However, the mean is 440 whereas the median is 594. This difference is due to the outliers with more than 1600 images for several sub-folders.  \n",
    "This situation is very similar to that of the Test data in 1.2.2.  \n",
    "We will take a further look into these outliers."
   ]
  },
  {
   "cell_type": "code",
   "execution_count": 66,
   "metadata": {},
   "outputs": [
    {
     "data": {
      "text/html": [
       "<div>\n",
       "<style scoped>\n",
       "    .dataframe tbody tr th:only-of-type {\n",
       "        vertical-align: middle;\n",
       "    }\n",
       "\n",
       "    .dataframe tbody tr th {\n",
       "        vertical-align: top;\n",
       "    }\n",
       "\n",
       "    .dataframe thead th {\n",
       "        text-align: right;\n",
       "    }\n",
       "</style>\n",
       "<table border=\"1\" class=\"dataframe\">\n",
       "  <thead>\n",
       "    <tr style=\"text-align: right;\">\n",
       "      <th></th>\n",
       "      <th>Character</th>\n",
       "      <th>Number of images</th>\n",
       "    </tr>\n",
       "  </thead>\n",
       "  <tbody>\n",
       "    <tr>\n",
       "      <th>2654</th>\n",
       "      <td>R</td>\n",
       "      <td>1704</td>\n",
       "    </tr>\n",
       "    <tr>\n",
       "      <th>2702</th>\n",
       "      <td>U</td>\n",
       "      <td>1706</td>\n",
       "    </tr>\n",
       "    <tr>\n",
       "      <th>2883</th>\n",
       "      <td>I</td>\n",
       "      <td>1706</td>\n",
       "    </tr>\n",
       "    <tr>\n",
       "      <th>2933</th>\n",
       "      <td>N</td>\n",
       "      <td>1706</td>\n",
       "    </tr>\n",
       "    <tr>\n",
       "      <th>3020</th>\n",
       "      <td>G</td>\n",
       "      <td>1705</td>\n",
       "    </tr>\n",
       "    <tr>\n",
       "      <th>3137</th>\n",
       "      <td>Z</td>\n",
       "      <td>1696</td>\n",
       "    </tr>\n",
       "    <tr>\n",
       "      <th>3328</th>\n",
       "      <td>T</td>\n",
       "      <td>1707</td>\n",
       "    </tr>\n",
       "    <tr>\n",
       "      <th>3363</th>\n",
       "      <td>S</td>\n",
       "      <td>1706</td>\n",
       "    </tr>\n",
       "    <tr>\n",
       "      <th>3439</th>\n",
       "      <td>A</td>\n",
       "      <td>1705</td>\n",
       "    </tr>\n",
       "    <tr>\n",
       "      <th>3526</th>\n",
       "      <td>F</td>\n",
       "      <td>1705</td>\n",
       "    </tr>\n",
       "    <tr>\n",
       "      <th>3555</th>\n",
       "      <td>O</td>\n",
       "      <td>1705</td>\n",
       "    </tr>\n",
       "    <tr>\n",
       "      <th>3623</th>\n",
       "      <td>H</td>\n",
       "      <td>1708</td>\n",
       "    </tr>\n",
       "    <tr>\n",
       "      <th>6248</th>\n",
       "      <td>M</td>\n",
       "      <td>1706</td>\n",
       "    </tr>\n",
       "    <tr>\n",
       "      <th>6343</th>\n",
       "      <td>J</td>\n",
       "      <td>1705</td>\n",
       "    </tr>\n",
       "    <tr>\n",
       "      <th>6434</th>\n",
       "      <td>C</td>\n",
       "      <td>1706</td>\n",
       "    </tr>\n",
       "    <tr>\n",
       "      <th>6482</th>\n",
       "      <td>D</td>\n",
       "      <td>1704</td>\n",
       "    </tr>\n",
       "    <tr>\n",
       "      <th>6558</th>\n",
       "      <td>V</td>\n",
       "      <td>1705</td>\n",
       "    </tr>\n",
       "    <tr>\n",
       "      <th>6625</th>\n",
       "      <td>Q</td>\n",
       "      <td>1707</td>\n",
       "    </tr>\n",
       "    <tr>\n",
       "      <th>6677</th>\n",
       "      <td>X</td>\n",
       "      <td>1705</td>\n",
       "    </tr>\n",
       "    <tr>\n",
       "      <th>6839</th>\n",
       "      <td>E</td>\n",
       "      <td>1704</td>\n",
       "    </tr>\n",
       "    <tr>\n",
       "      <th>6904</th>\n",
       "      <td>B</td>\n",
       "      <td>1704</td>\n",
       "    </tr>\n",
       "    <tr>\n",
       "      <th>6937</th>\n",
       "      <td>K</td>\n",
       "      <td>1706</td>\n",
       "    </tr>\n",
       "    <tr>\n",
       "      <th>7020</th>\n",
       "      <td>L</td>\n",
       "      <td>1706</td>\n",
       "    </tr>\n",
       "    <tr>\n",
       "      <th>7136</th>\n",
       "      <td>Y</td>\n",
       "      <td>1706</td>\n",
       "    </tr>\n",
       "    <tr>\n",
       "      <th>7236</th>\n",
       "      <td>P</td>\n",
       "      <td>1706</td>\n",
       "    </tr>\n",
       "    <tr>\n",
       "      <th>7321</th>\n",
       "      <td>W</td>\n",
       "      <td>1703</td>\n",
       "    </tr>\n",
       "  </tbody>\n",
       "</table>\n",
       "</div>"
      ],
      "text/plain": [
       "     Character  Number of images\n",
       "2654         R              1704\n",
       "2702         U              1706\n",
       "2883         I              1706\n",
       "2933         N              1706\n",
       "3020         G              1705\n",
       "3137         Z              1696\n",
       "3328         T              1707\n",
       "3363         S              1706\n",
       "3439         A              1705\n",
       "3526         F              1705\n",
       "3555         O              1705\n",
       "3623         H              1708\n",
       "6248         M              1706\n",
       "6343         J              1705\n",
       "6434         C              1706\n",
       "6482         D              1704\n",
       "6558         V              1705\n",
       "6625         Q              1707\n",
       "6677         X              1705\n",
       "6839         E              1704\n",
       "6904         B              1704\n",
       "6937         K              1706\n",
       "7020         L              1706\n",
       "7136         Y              1706\n",
       "7236         P              1706\n",
       "7321         W              1703"
      ]
     },
     "execution_count": 66,
     "metadata": {},
     "output_type": "execute_result"
    }
   ],
   "source": [
    "# To filter out rows in df_test where number of images is more than 1600\n",
    "df_train[df_train['Number of images']>1600]"
   ]
  },
  {
   "cell_type": "markdown",
   "metadata": {},
   "source": [
    "We found out these outliers are actually characters of the English alphabet."
   ]
  },
  {
   "cell_type": "code",
   "execution_count": 67,
   "metadata": {},
   "outputs": [
    {
     "data": {
      "text/html": [
       "<div>\n",
       "<style scoped>\n",
       "    .dataframe tbody tr th:only-of-type {\n",
       "        vertical-align: middle;\n",
       "    }\n",
       "\n",
       "    .dataframe tbody tr th {\n",
       "        vertical-align: top;\n",
       "    }\n",
       "\n",
       "    .dataframe thead th {\n",
       "        text-align: right;\n",
       "    }\n",
       "</style>\n",
       "<table border=\"1\" class=\"dataframe\">\n",
       "  <thead>\n",
       "    <tr style=\"text-align: right;\">\n",
       "      <th></th>\n",
       "      <th>Character</th>\n",
       "      <th>Number of images</th>\n",
       "    </tr>\n",
       "  </thead>\n",
       "  <tbody>\n",
       "    <tr>\n",
       "      <th>43</th>\n",
       "      <td>⑩</td>\n",
       "      <td>842</td>\n",
       "    </tr>\n",
       "    <tr>\n",
       "      <th>66</th>\n",
       "      <td>△</td>\n",
       "      <td>848</td>\n",
       "    </tr>\n",
       "    <tr>\n",
       "      <th>116</th>\n",
       "      <td>⑧</td>\n",
       "      <td>847</td>\n",
       "    </tr>\n",
       "    <tr>\n",
       "      <th>121</th>\n",
       "      <td>full_stop</td>\n",
       "      <td>857</td>\n",
       "    </tr>\n",
       "    <tr>\n",
       "      <th>188</th>\n",
       "      <td>①</td>\n",
       "      <td>849</td>\n",
       "    </tr>\n",
       "    <tr>\n",
       "      <th>...</th>\n",
       "      <td>...</td>\n",
       "      <td>...</td>\n",
       "    </tr>\n",
       "    <tr>\n",
       "      <th>7190</th>\n",
       "      <td>@</td>\n",
       "      <td>852</td>\n",
       "    </tr>\n",
       "    <tr>\n",
       "      <th>7236</th>\n",
       "      <td>P</td>\n",
       "      <td>1706</td>\n",
       "    </tr>\n",
       "    <tr>\n",
       "      <th>7241</th>\n",
       "      <td>℃</td>\n",
       "      <td>848</td>\n",
       "    </tr>\n",
       "    <tr>\n",
       "      <th>7321</th>\n",
       "      <td>W</td>\n",
       "      <td>1703</td>\n",
       "    </tr>\n",
       "    <tr>\n",
       "      <th>7328</th>\n",
       "      <td>;</td>\n",
       "      <td>856</td>\n",
       "    </tr>\n",
       "  </tbody>\n",
       "</table>\n",
       "<p>145 rows × 2 columns</p>\n",
       "</div>"
      ],
      "text/plain": [
       "      Character  Number of images\n",
       "43            ⑩               842\n",
       "66            △               848\n",
       "116           ⑧               847\n",
       "121   full_stop               857\n",
       "188           ①               849\n",
       "...         ...               ...\n",
       "7190          @               852\n",
       "7236          P              1706\n",
       "7241          ℃               848\n",
       "7321          W              1703\n",
       "7328          ;               856\n",
       "\n",
       "[145 rows x 2 columns]"
      ]
     },
     "execution_count": 67,
     "metadata": {},
     "output_type": "execute_result"
    }
   ],
   "source": [
    "# To filter out rows in df_test where number of images is between 650 and 1000\n",
    "df_train[(df_train['Number of images']>650) & (df_test['Number of images']<1000)]"
   ]
  },
  {
   "cell_type": "markdown",
   "metadata": {},
   "source": [
    "We took a closer look at the characters beyond the 75% percentile, and found out that they include numbers, punctuation and symbols.  \n",
    "Since we are focusing on Chinese characters, these outliers will not affect our result."
   ]
  },
  {
   "cell_type": "markdown",
   "metadata": {},
   "source": [
    "#### 1.2.4 Images of Test and Train Dataset"
   ]
  },
  {
   "cell_type": "markdown",
   "metadata": {},
   "source": [
    "We will take a look at 3 random images and its attributes from the following sub-folders:  \n",
    "  \n",
    "1. `我` - me/ myself/ I\n",
    "2. `爱` - love\n",
    "3. `吃` - eat  \n",
    "  \n",
    "These 3 Chinese characters are all in [Level 1 word list](https://hsk.academy/en/hsk-1-vocabulary-list) of the [Chinese Proficiency Test HSK](https://en.wikipedia.org/wiki/Hanyu_Shuiping_Kaoshi), and are selected due to its frequency of usage."
   ]
  },
  {
   "cell_type": "code",
   "execution_count": 57,
   "metadata": {},
   "outputs": [],
   "source": [
    "# Function to display 3 randomly selected images and its attributes from sub-folder\n",
    "def display_images(root_folder, subfolders, num_of_images):\n",
    "    for subfolder in subfolders:\n",
    "        folder_path = os.path.join(root_folder, subfolder)\n",
    "        files = [f for f in os.listdir(folder_path) if os.path.isfile(os.path.join(folder_path, f))]\n",
    "\n",
    "        selected_files = random.sample(files, num_of_images)\n",
    "\n",
    "        print(f\"Randomly selected images and their attributes from {subfolder}:\")\n",
    "        for file_name in selected_files:\n",
    "            file_path = os.path.join(folder_path, file_name)\n",
    "            image = Image.open(file_path)\n",
    "                \n",
    "            # Display the image\n",
    "            plt.imshow(image)\n",
    "            plt.title(file_name)\n",
    "            plt.axis('off')  # Turn off axis labels\n",
    "            plt.show()  # Show the image\n",
    "\n",
    "            # Display picture attributes\n",
    "            print(f\"\\tImage: {file_path}\")\n",
    "            print(f\"\\tSize: {image.size}\")\n",
    "            print(f\"\\tFormat: {image.format}\")\n",
    "            print(f\"\\tMode: {image.mode}\")\n",
    "            print()  # Empty line for separation"
   ]
  },
  {
   "cell_type": "code",
   "execution_count": 60,
   "metadata": {},
   "outputs": [
    {
     "name": "stdout",
     "output_type": "stream",
     "text": [
      "Randomly selected images and their attributes from 我:\n"
     ]
    },
    {
     "data": {
      "image/png": "[encoded data removed]",
      "text/plain": [
       "<Figure size 640x480 with 1 Axes>"
      ]
     },
     "metadata": {},
     "output_type": "display_data"
    },
    {
     "name": "stdout",
     "output_type": "stream",
     "text": [
      "\tImage: ../data/raw_data/Test/我/88.png\n",
      "\tSize: (75, 92)\n",
      "\tFormat: PNG\n",
      "\tMode: L\n",
      "\n"
     ]
    },
    {
     "data": {
      "image/png": "[encoded data removed]",
      "text/plain": [
       "<Figure size 640x480 with 1 Axes>"
      ]
     },
     "metadata": {},
     "output_type": "display_data"
    },
    {
     "name": "stdout",
     "output_type": "stream",
     "text": [
      "\tImage: ../data/raw_data/Test/我/73.png\n",
      "\tSize: (85, 79)\n",
      "\tFormat: PNG\n",
      "\tMode: L\n",
      "\n"
     ]
    },
    {
     "data": {
      "image/png": "[encoded data removed]",
      "text/plain": [
       "<Figure size 640x480 with 1 Axes>"
      ]
     },
     "metadata": {},
     "output_type": "display_data"
    },
    {
     "name": "stdout",
     "output_type": "stream",
     "text": [
      "\tImage: ../data/raw_data/Test/我/135.png\n",
      "\tSize: (63, 102)\n",
      "\tFormat: PNG\n",
      "\tMode: L\n",
      "\n",
      "Randomly selected images and their attributes from 爱:\n"
     ]
    },
    {
     "data": {
      "image/png": "[encoded data removed]",
      "text/plain": [
       "<Figure size 640x480 with 1 Axes>"
      ]
     },
     "metadata": {},
     "output_type": "display_data"
    },
    {
     "name": "stdout",
     "output_type": "stream",
     "text": [
      "\tImage: ../data/raw_data/Test/爱/25.png\n",
      "\tSize: (61, 101)\n",
      "\tFormat: PNG\n",
      "\tMode: L\n",
      "\n"
     ]
    },
    {
     "data": {
      "image/png": "[encoded data removed]",
      "text/plain": [
       "<Figure size 640x480 with 1 Axes>"
      ]
     },
     "metadata": {},
     "output_type": "display_data"
    },
    {
     "name": "stdout",
     "output_type": "stream",
     "text": [
      "\tImage: ../data/raw_data/Test/爱/81.png\n",
      "\tSize: (83, 113)\n",
      "\tFormat: PNG\n",
      "\tMode: L\n",
      "\n"
     ]
    },
    {
     "data": {
      "image/png": "[encoded data removed]",
      "text/plain": [
       "<Figure size 640x480 with 1 Axes>"
      ]
     },
     "metadata": {},
     "output_type": "display_data"
    },
    {
     "name": "stdout",
     "output_type": "stream",
     "text": [
      "\tImage: ../data/raw_data/Test/爱/50.png\n",
      "\tSize: (53, 94)\n",
      "\tFormat: PNG\n",
      "\tMode: L\n",
      "\n",
      "Randomly selected images and their attributes from 吃:\n"
     ]
    },
    {
     "data": {
      "image/png": "[encoded data removed]",
      "text/plain": [
       "<Figure size 640x480 with 1 Axes>"
      ]
     },
     "metadata": {},
     "output_type": "display_data"
    },
    {
     "name": "stdout",
     "output_type": "stream",
     "text": [
      "\tImage: ../data/raw_data/Test/吃/37.png\n",
      "\tSize: (56, 70)\n",
      "\tFormat: PNG\n",
      "\tMode: L\n",
      "\n"
     ]
    },
    {
     "data": {
      "image/png": "[encoded data removed]",
      "text/plain": [
       "<Figure size 640x480 with 1 Axes>"
      ]
     },
     "metadata": {},
     "output_type": "display_data"
    },
    {
     "name": "stdout",
     "output_type": "stream",
     "text": [
      "\tImage: ../data/raw_data/Test/吃/67.png\n",
      "\tSize: (94, 71)\n",
      "\tFormat: PNG\n",
      "\tMode: L\n",
      "\n"
     ]
    },
    {
     "data": {
      "image/png": "[encoded data removed]",
      "text/plain": [
       "<Figure size 640x480 with 1 Axes>"
      ]
     },
     "metadata": {},
     "output_type": "display_data"
    },
    {
     "name": "stdout",
     "output_type": "stream",
     "text": [
      "\tImage: ../data/raw_data/Test/吃/18.png\n",
      "\tSize: (74, 57)\n",
      "\tFormat: PNG\n",
      "\tMode: L\n",
      "\n"
     ]
    }
   ],
   "source": [
    "# To display 3 randomly selected images from '我', '爱', '吃' sub-folders from test dataset\n",
    "root_folder = '../data/raw_data/Test'\n",
    "subfolders = ['我', '爱', '吃']\n",
    "num_of_images = 3\n",
    "display_images(root_folder, subfolders, num_of_images)"
   ]
  },
  {
   "cell_type": "code",
   "execution_count": 61,
   "metadata": {},
   "outputs": [
    {
     "name": "stdout",
     "output_type": "stream",
     "text": [
      "Randomly selected images and their attributes from 我:\n"
     ]
    },
    {
     "data": {
      "image/png": "[encoded data removed]",
      "text/plain": [
       "<Figure size 640x480 with 1 Axes>"
      ]
     },
     "metadata": {},
     "output_type": "display_data"
    },
    {
     "name": "stdout",
     "output_type": "stream",
     "text": [
      "\tImage: ../data/raw_data/Train/我/55.png\n",
      "\tSize: (72, 99)\n",
      "\tFormat: PNG\n",
      "\tMode: RGBA\n",
      "\n"
     ]
    },
    {
     "data": {
      "image/png": "[encoded data removed]",
      "text/plain": [
       "<Figure size 640x480 with 1 Axes>"
      ]
     },
     "metadata": {},
     "output_type": "display_data"
    },
    {
     "name": "stdout",
     "output_type": "stream",
     "text": [
      "\tImage: ../data/raw_data/Train/我/573.png\n",
      "\tSize: (88, 82)\n",
      "\tFormat: PNG\n",
      "\tMode: L\n",
      "\n"
     ]
    },
    {
     "data": {
      "image/png": "[encoded data removed]",
      "text/plain": [
       "<Figure size 640x480 with 1 Axes>"
      ]
     },
     "metadata": {},
     "output_type": "display_data"
    },
    {
     "name": "stdout",
     "output_type": "stream",
     "text": [
      "\tImage: ../data/raw_data/Train/我/5.png\n",
      "\tSize: (65, 91)\n",
      "\tFormat: PNG\n",
      "\tMode: RGBA\n",
      "\n",
      "Randomly selected images and their attributes from 爱:\n"
     ]
    },
    {
     "data": {
      "image/png": "[encoded data removed]",
      "text/plain": [
       "<Figure size 640x480 with 1 Axes>"
      ]
     },
     "metadata": {},
     "output_type": "display_data"
    },
    {
     "name": "stdout",
     "output_type": "stream",
     "text": [
      "\tImage: ../data/raw_data/Train/爱/318.png\n",
      "\tSize: (63, 85)\n",
      "\tFormat: PNG\n",
      "\tMode: RGBA\n",
      "\n"
     ]
    },
    {
     "data": {
      "image/png": "[encoded data removed]",
      "text/plain": [
       "<Figure size 640x480 with 1 Axes>"
      ]
     },
     "metadata": {},
     "output_type": "display_data"
    },
    {
     "name": "stdout",
     "output_type": "stream",
     "text": [
      "\tImage: ../data/raw_data/Train/爱/568.png\n",
      "\tSize: (92, 102)\n",
      "\tFormat: PNG\n",
      "\tMode: L\n",
      "\n"
     ]
    },
    {
     "data": {
      "image/png": "[encoded data removed]",
      "text/plain": [
       "<Figure size 640x480 with 1 Axes>"
      ]
     },
     "metadata": {},
     "output_type": "display_data"
    },
    {
     "name": "stdout",
     "output_type": "stream",
     "text": [
      "\tImage: ../data/raw_data/Train/爱/445.png\n",
      "\tSize: (51, 75)\n",
      "\tFormat: PNG\n",
      "\tMode: RGBA\n",
      "\n",
      "Randomly selected images and their attributes from 吃:\n"
     ]
    },
    {
     "data": {
      "image/png": "[encoded data removed]",
      "text/plain": [
       "<Figure size 640x480 with 1 Axes>"
      ]
     },
     "metadata": {},
     "output_type": "display_data"
    },
    {
     "name": "stdout",
     "output_type": "stream",
     "text": [
      "\tImage: ../data/raw_data/Train/吃/112.png\n",
      "\tSize: (69, 58)\n",
      "\tFormat: PNG\n",
      "\tMode: RGBA\n",
      "\n"
     ]
    },
    {
     "data": {
      "image/png": "[encoded data removed]",
      "text/plain": [
       "<Figure size 640x480 with 1 Axes>"
      ]
     },
     "metadata": {},
     "output_type": "display_data"
    },
    {
     "name": "stdout",
     "output_type": "stream",
     "text": [
      "\tImage: ../data/raw_data/Train/吃/266.png\n",
      "\tSize: (78, 50)\n",
      "\tFormat: PNG\n",
      "\tMode: RGBA\n",
      "\n"
     ]
    },
    {
     "data": {
      "image/png": "[encoded data removed]",
      "text/plain": [
       "<Figure size 640x480 with 1 Axes>"
      ]
     },
     "metadata": {},
     "output_type": "display_data"
    },
    {
     "name": "stdout",
     "output_type": "stream",
     "text": [
      "\tImage: ../data/raw_data/Train/吃/261.png\n",
      "\tSize: (93, 97)\n",
      "\tFormat: PNG\n",
      "\tMode: RGBA\n",
      "\n"
     ]
    }
   ],
   "source": [
    "# To display 3 randomly selected images from '我', '爱', '吃' sub-folders from train dataset\n",
    "root_folder = '../data/raw_data/Train'\n",
    "subfolders = ['我', '爱', '吃']\n",
    "num_of_images = 3\n",
    "display_images(root_folder, subfolders, num_of_images)"
   ]
  },
  {
   "cell_type": "markdown",
   "metadata": {},
   "source": [
    "We can make a few observations on the images from both test and train datasets:  \n",
    "  \n",
    "- There are differences in terms of the handwriting style, whether it is being printed or cursive, upright or slanted left or right\n",
    "- The size of images are varied\n",
    "- All images are in PNG format\n",
    "- A mixture of images in different modes: RGBA (4x8-bit pixels, true color with transparency mask) and L (8-bit pixels, grayscale)  \n",
    "  \n",
    "These observations will give us directions on the pre-processing steps required for the images before using them for training."
   ]
  },
  {
   "cell_type": "markdown",
   "metadata": {},
   "source": [
    "### 1.3 Summary of Dataset"
   ]
  },
  {
   "cell_type": "markdown",
   "metadata": {},
   "source": [
    "Based on the above analysis performed on our dataset, we have a median of 140 and 594 images from the `test` and `train` folders respectively.   \n",
    "  \n",
    "As for the images within the sub-folders, we will be doing some pre-processing steps before feeding them into the model.  \n",
    "  \n",
    "We will explore these steps in greater details from the next notebook [02_Self_Trained_Model_Binary](02_Self_Trained_Model_Binary.ipynb) onwards.  "
   ]
  }
 ],
 "metadata": {
  "kernelspec": {
   "display_name": "ga_dsi_projs",
   "language": "python",
   "name": "python3"
  },
  "language_info": {
   "codemirror_mode": {
    "name": "ipython",
    "version": 3
   },
   "file_extension": ".py",
   "mimetype": "text/x-python",
   "name": "python",
   "nbconvert_exporter": "python",
   "pygments_lexer": "ipython3",
   "version": "3.11.0"
  }
 },
 "nbformat": 4,
 "nbformat_minor": 2
}
