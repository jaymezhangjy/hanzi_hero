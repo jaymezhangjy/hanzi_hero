{
 "cells": [
  {
   "cell_type": "markdown",
   "metadata": {},
   "source": [
    "<img src='../images/hanzi_hero_icon.png' style=\"float: left; margin: 20px; height: 55px\">\n",
    "\n",
    "# Hanzi Hero: Empowering Kids to Master Chinese Characters\n",
    "<div style=\"text-align: right\"> <H3> By Jayme Zhang </div>\n",
    "\n",
    "---"
   ]
  },
  {
   "cell_type": "markdown",
   "metadata": {},
   "source": [
    "## 2. Self-Trained CNN Model - Binary"
   ]
  },
  {
   "cell_type": "markdown",
   "metadata": {},
   "source": [
    "For the purpose of this project, we will be building an image recognition model to classify handwritten Chinese character.  \n",
    "  \n",
    "Our first approach involves building a self-trained convolutional neural network (CNN) on the dataset. This model will act as a binary classifier, determining whether a given handwritten image represents a specific word or not.  \n",
    "  \n",
    "The Chinese character chosen for this task is `我`, which means me/ myself/ I."
   ]
  },
  {
   "cell_type": "code",
   "execution_count": 2,
   "metadata": {},
   "outputs": [],
   "source": [
    "# Import libraries and modules\n",
    "import pandas as pd\n",
    "import numpy as np\n",
    "import matplotlib.pyplot as plt\n",
    "import matplotlib.font_manager as fm\n",
    "from sklearn.metrics import confusion_matrix, ConfusionMatrixDisplay\n",
    "\n",
    "import tensorflow as tf\n",
    "from tensorflow.keras.models import Sequential, load_model\n",
    "from tensorflow.keras.layers import Dense, Dropout, Flatten, Conv2D, MaxPooling2D, GlobalMaxPooling2D\n",
    "from tensorflow.keras.optimizers import Adam\n",
    "from tensorflow.keras import utils\n",
    "from tensorflow.keras.callbacks import EarlyStopping\n",
    "\n",
    "import keras as keras\n",
    "from keras import layers, initializers\n",
    "from keras.preprocessing.image import ImageDataGenerator\n",
    "\n",
    "from time import time\n",
    "import datetime, os"
   ]
  },
  {
   "cell_type": "markdown",
   "metadata": {},
   "source": [
    "### 2.1 Basic Setup"
   ]
  },
  {
   "cell_type": "markdown",
   "metadata": {},
   "source": [
    "#### 2.1.1 Set random seed"
   ]
  },
  {
   "cell_type": "markdown",
   "metadata": {},
   "source": [
    "For easy comparison of results and debugging purposes, we will set up the following to ensure reproducibility of results."
   ]
  },
  {
   "cell_type": "code",
   "execution_count": 3,
   "metadata": {},
   "outputs": [],
   "source": [
    "# To ensure reproducibility of results\n",
    "keras.utils.set_random_seed(42)\n",
    "tf.config.experimental.enable_op_determinism()"
   ]
  },
  {
   "cell_type": "markdown",
   "metadata": {},
   "source": [
    "#### 2.1.2 Set font for output of Chinese characters"
   ]
  },
  {
   "cell_type": "markdown",
   "metadata": {},
   "source": [
    "Since our labels include Chinese characters, for the characters to be displayed correctly on visualisations, we will set the fonts to be compatible."
   ]
  },
  {
   "cell_type": "code",
   "execution_count": 4,
   "metadata": {},
   "outputs": [
    {
     "name": "stdout",
     "output_type": "stream",
     "text": [
      "[FontEntry(fname='/System/Library/Fonts/Supplemental/Songti.ttc', name='Songti SC', style='normal', variant='normal', weight=900, stretch='normal', size='scalable')]\n"
     ]
    }
   ],
   "source": [
    "# To check if the Chinese font for Simplified Chinese Songti is available\n",
    "print([f for f in fm.fontManager.ttflist if 'Songti' in f.name])"
   ]
  },
  {
   "cell_type": "code",
   "execution_count": 5,
   "metadata": {},
   "outputs": [],
   "source": [
    "# To display Chinese characters in matplotlib\n",
    "plt.rcParams['font.family'] = ['Songti SC']"
   ]
  },
  {
   "cell_type": "markdown",
   "metadata": {},
   "source": [
    "### 2.2 Image Augmentation"
   ]
  },
  {
   "cell_type": "markdown",
   "metadata": {},
   "source": [
    "Based on the analysis done in the previous notebook [01_EDA](01_EDA.ipynb), we are working with a median of 140 and 594 images from the `test` and `train` folders respectively. We will be doing image augmentation via `ImageDataGenerator` to increase the samples.  \n",
    "  \n",
    "This method aims at artificially expanding the size of a training data set by creating modified versions of models (randomly rotating the image, adding reflections, zooming in, adding a colour filter, etc). This commonly-used approach can improve the ability of the trained model for generalizations to new images.  \n",
    "  \n",
    "That being said, it does not involve 'creating' or adding new images to the dataset. Instead, it replaces the original training images with augmented versions while the model is trained on them. During each epoch, variations of the original image are passed through the layers of the model."
   ]
  },
  {
   "cell_type": "markdown",
   "metadata": {},
   "source": [
    "We will be augmenting the images in the following ways:\n",
    "\n",
    "1. We will rescale the image's pixels from between 0 to 255, to between 0.0 to 1.0, by dividing by 255. This would be a more direct and efficient approach compared to using StandardScalar().\n",
    "  \n",
    "2. The image can be rotated through any degree between 0 and 360. We will rotate the images by 10 degrees as there could be handwriting styles which are slanted to either left or right.\n",
    "\n",
    "3. When the image is rotated, some pixels will move outside the image and leave an empty area that needs to be filled in. The default value of 'nearest' will simply replace the empty area with the nearest pixel values.\n",
    "  \n",
    "4. To account for scenarios when the object may not always be in the centre of the image, we can shift the pixels of the image either horizontally or vertically. If the value is a float, that would represent the percentage of width or height of the image to shift. If it is an integer value, the width or height would shifted by that value of pixel values. In our case, we will shift it by 20%.\n",
    "\n",
    "5. Shear transformation is a process of slanting the image. It is different from the rotation because in rotation we will rotate the image. But for shearing, we fix one axis and stretch the image in a certain angle known as the shearing angle. The value will be float which represents a shear angle in a counter-clockwise direction in degrees. We will shear by 20%.\n",
    "\n",
    "6. The zoom augmentation will zoom in on the image for values smaller than 1, and zoom out on the image for values greater than 1. We will zoom in by 10%."
   ]
  },
  {
   "cell_type": "code",
   "execution_count": 6,
   "metadata": {},
   "outputs": [],
   "source": [
    "# Augmentation for training data\n",
    "train_data = ImageDataGenerator(\n",
    "    rescale=1./255, # normalize values to between 0 and 1\n",
    "    rotation_range=10, # rotate image by 10 degrees\n",
    "    fill_mode='nearest', # replaces empty area with the nearest pixel values\n",
    "    width_shift_range=0.2, # shifts image width by 20%\n",
    "    height_shift_range=0.2, # shifts image height by 20%\n",
    "    shear_range=0.2, # shears image by 20%\n",
    "    zoom_range=0.1 # zoom in image by 10%\n",
    ")\n",
    "\n",
    "# Validation data only requires normalizing of values to between 0 and 1\n",
    "val_data = ImageDataGenerator(rescale=1./255)"
   ]
  },
  {
   "cell_type": "markdown",
   "metadata": {},
   "source": [
    "### 2.3 Reading Files from Directory"
   ]
  },
  {
   "cell_type": "markdown",
   "metadata": {},
   "source": [
    "Since all our dataset are images stored in individual folders, we will use `flow_from_directory` to specify that we want to read all files from a given directory. The directory should be set to the path where the various classes of folders are present."
   ]
  },
  {
   "cell_type": "markdown",
   "metadata": {},
   "source": [
    "At the same time, we are able to specify the following settings:\n",
    "\n",
    "1. Since the images in the dataset are of diferring sizes, we will resize all image to (64, 64).  \n",
    "  \n",
    "2. We will set the images to 'grayscale'.\n",
    "\n",
    "3. There will be 16 images yielded from the generator per batch.  \n",
    "  \n",
    "4. For this case, our `class_mode` will be set to binary.  \n",
    "  \n",
    "5. We will set `shuffle` to True so that the order of the image that is being yielded will be shuffled. "
   ]
  },
  {
   "cell_type": "code",
   "execution_count": 7,
   "metadata": {},
   "outputs": [
    {
     "name": "stdout",
     "output_type": "stream",
     "text": [
      "Found 1207 images belonging to 2 classes.\n"
     ]
    },
    {
     "name": "stdout",
     "output_type": "stream",
     "text": [
      "Found 355 images belonging to 2 classes.\n"
     ]
    }
   ],
   "source": [
    "# To read in images from train folder\n",
    "train_generator = train_data.flow_from_directory(\n",
    "    '../data/binary_data/train',\n",
    "    target_size=(64, 64),\n",
    "    color_mode=\"grayscale\",\n",
    "    batch_size=16,\n",
    "    class_mode='binary',\n",
    "    shuffle=True,\n",
    "    seed=42\n",
    ")\n",
    "\n",
    "# To read in images from validation folder\n",
    "val_generator = val_data.flow_from_directory(\n",
    "    '../data/binary_data/valid',\n",
    "    target_size=(64, 64),\n",
    "    color_mode=\"grayscale\",\n",
    "    batch_size=16,\n",
    "    class_mode='binary',\n",
    "    shuffle=False,\n",
    "    seed=42\n",
    ")"
   ]
  },
  {
   "cell_type": "markdown",
   "metadata": {},
   "source": [
    "After reading in the images from the directory, we need to find out the labels allocated for different class."
   ]
  },
  {
   "cell_type": "code",
   "execution_count": 8,
   "metadata": {},
   "outputs": [
    {
     "data": {
      "text/plain": [
       "{'others': 0, '我': 1}"
      ]
     },
     "execution_count": 8,
     "metadata": {},
     "output_type": "execute_result"
    }
   ],
   "source": [
    "# To find out labels for the 2 classes\n",
    "train_generator.class_indices"
   ]
  },
  {
   "cell_type": "markdown",
   "metadata": {},
   "source": [
    "The results are returned in the form of a dictionary, where the Chinese character is the key and the index of the class is the value."
   ]
  },
  {
   "cell_type": "markdown",
   "metadata": {},
   "source": [
    "### 2.4 Network Architecture for CNN"
   ]
  },
  {
   "cell_type": "markdown",
   "metadata": {},
   "source": [
    "Here's a visual breakdown of the network architecture of a Convolutional Neural Network.  \n",
    "\n",
    "![Network Architecture for Convolutional Neural Network](../images/cnn_architecture.png)\n",
    "[Image source](https://nafizshahriar.medium.com/what-is-convolutional-neural-network-cnn-deep-learning-b3921bdd82d5)"
   ]
  },
  {
   "cell_type": "markdown",
   "metadata": {},
   "source": [
    "#### 2.4.1 Convolutional and Pooling Layers - for Feature Extraction"
   ]
  },
  {
   "cell_type": "markdown",
   "metadata": {},
   "source": [
    "We will start by instantiating a CNN model, and then work on the convolutional layers and pooling layers."
   ]
  },
  {
   "cell_type": "code",
   "execution_count": 9,
   "metadata": {},
   "outputs": [],
   "source": [
    "# Instantiate a CNN model\n",
    "model_cnn = Sequential()"
   ]
  },
  {
   "cell_type": "markdown",
   "metadata": {},
   "source": [
    "The convolutional layer is responsible for extracting features from the input image. It performs a convolution operation on the input image, where a filter or kernel is applied to the image to identify and extract specific features. The input shape is required to be specified for the first convolutional layer."
   ]
  },
  {
   "cell_type": "code",
   "execution_count": 10,
   "metadata": {},
   "outputs": [],
   "source": [
    "# Add a convolutional layer to instantiated empty model\n",
    "# Conv2D for 2D convolution on image\n",
    "model_cnn.add(Conv2D(filters=50,        # number of filters\n",
    "                     kernel_size=(3,3), # height/ width of filter\n",
    "                     padding='same',    # to ensure output is same shape as input\n",
    "                     activation='relu', # most popular activation function choice for CNN\n",
    "                     input_shape=(64, 64, 1)))  # shape of image = (64, 64), 1 channel for greyscale image"
   ]
  },
  {
   "cell_type": "markdown",
   "metadata": {},
   "source": [
    "The pooling layer is responsible for reducing the spatial dimensions of the feature maps produced by the convolutional layer. It performs a down-sampling operation to reduce the size of the feature maps and reduce computational complexity."
   ]
  },
  {
   "cell_type": "code",
   "execution_count": 11,
   "metadata": {},
   "outputs": [],
   "source": [
    "# Every convolution layer is followed by a pooling layer\n",
    "model_cnn.add(MaxPooling2D(pool_size=(2, 2)))"
   ]
  },
  {
   "cell_type": "markdown",
   "metadata": {},
   "source": [
    "We will add another convolutional layer, followed by another pooling layer."
   ]
  },
  {
   "cell_type": "code",
   "execution_count": 12,
   "metadata": {},
   "outputs": [],
   "source": [
    "model_cnn.add(Conv2D(filters=30,        # number of filters\n",
    "                     kernel_size=(3,3), # height/ width of filter\n",
    "                     padding='same',    # to ensure output is same shape as input\n",
    "                     activation='relu')) # most popular activation function choice for CNN\n",
    "\n",
    "model_cnn.add(MaxPooling2D(pool_size=(2, 2)))"
   ]
  },
  {
   "cell_type": "code",
   "execution_count": 13,
   "metadata": {},
   "outputs": [],
   "source": [
    "model_cnn.add(Conv2D(filters=10,        # number of filters\n",
    "                     kernel_size=(2,2), # height/ width of filter\n",
    "                     padding='same',    # to ensure output is same shape as input\n",
    "                     activation='relu')) # most popular activation function choice for CNN\n",
    "\n",
    "model_cnn.add(MaxPooling2D(pool_size=(2, 2)))"
   ]
  },
  {
   "cell_type": "markdown",
   "metadata": {},
   "source": [
    "#### 2.4.2 Fully Connected Layer - for Classification"
   ]
  },
  {
   "cell_type": "markdown",
   "metadata": {},
   "source": [
    "We will work on the fully connected layer now. This layer is responsible for combining the features learned by the convolutional and pooling layers to make a prediction. Before inputting into a dense layer, we will need to flatten the layer."
   ]
  },
  {
   "cell_type": "code",
   "execution_count": 14,
   "metadata": {},
   "outputs": [],
   "source": [
    "# To flatten 2D array into 1D vector\n",
    "model_cnn.add(Flatten())"
   ]
  },
  {
   "cell_type": "markdown",
   "metadata": {},
   "source": [
    "After the convolutional and pooling layers have extracted features from the input image, the dense layer can then be used to combine those features and make a final prediction. In a CNN, the dense layer is usually the final layer and is used to produce the output predictions."
   ]
  },
  {
   "cell_type": "code",
   "execution_count": 15,
   "metadata": {},
   "outputs": [],
   "source": [
    "# Add some fully connected layers once we have 1-D vector from Flatten()\n",
    "model_cnn.add(Dense(128, activation='relu')) # hidden layer with 128 nodes, relu activation\n",
    "model_cnn.add(Dense(64, activation='relu')) # hidden layer with 64 nodes, relu activation\n",
    "model_cnn.add(Dense(1, activation='sigmoid')) # output layer with 1 nodes, sigmoid activation for binary classification"
   ]
  },
  {
   "cell_type": "code",
   "execution_count": 16,
   "metadata": {},
   "outputs": [
    {
     "name": "stdout",
     "output_type": "stream",
     "text": [
      "Model: \"sequential\"\n",
      "_________________________________________________________________\n",
      " Layer (type)                Output Shape              Param #   \n",
      "=================================================================\n",
      " conv2d (Conv2D)             (None, 64, 64, 50)        500       \n",
      "                                                                 \n",
      " max_pooling2d (MaxPooling2D  (None, 32, 32, 50)       0         \n",
      " )                                                               \n",
      "                                                                 \n",
      " conv2d_1 (Conv2D)           (None, 32, 32, 30)        13530     \n",
      "                                                                 \n",
      " max_pooling2d_1 (MaxPooling  (None, 16, 16, 30)       0         \n",
      " 2D)                                                             \n",
      "                                                                 \n",
      " conv2d_2 (Conv2D)           (None, 16, 16, 10)        1210      \n",
      "                                                                 \n",
      " max_pooling2d_2 (MaxPooling  (None, 8, 8, 10)         0         \n",
      " 2D)                                                             \n",
      "                                                                 \n",
      " flatten (Flatten)           (None, 640)               0         \n",
      "                                                                 \n",
      " dense (Dense)               (None, 128)               82048     \n",
      "                                                                 \n",
      " dense_1 (Dense)             (None, 64)                8256      \n",
      "                                                                 \n",
      " dense_2 (Dense)             (None, 1)                 65        \n",
      "                                                                 \n",
      "=================================================================\n",
      "Total params: 105,609\n",
      "Trainable params: 105,609\n",
      "Non-trainable params: 0\n",
      "_________________________________________________________________\n"
     ]
    }
   ],
   "source": [
    "# Check model summary to confirm all our additions so far\n",
    "model_cnn.summary()"
   ]
  },
  {
   "cell_type": "markdown",
   "metadata": {},
   "source": [
    "### 2.5 Regularisation - EarlyStopping"
   ]
  },
  {
   "cell_type": "markdown",
   "metadata": {},
   "source": [
    "EarlyStopping is a technique used to prevent overfitting during training. It acts as a form of regularization by stopping the training process before the model starts to memorize the training data too much, hindering its ability to generalize well on unseen data."
   ]
  },
  {
   "cell_type": "markdown",
   "metadata": {},
   "source": [
    "We will make use of the following arguments:\n",
    "\n",
    "1. `monitor`: We will monitor `val_loss` which is the validation loss as a metric to stop the model training.\n",
    "  \n",
    "2. `mode`: Default is `auto` mode, where the objective of maximising or minimising the chosen metric to monitor will be automatically inferred\n",
    "  \n",
    "3. `min_delta`: This will define how much of a delta is considered as no improvement in the monitored metric. We will set it to 0.\n",
    "  \n",
    "4. `patience`: By adding a delay to the trigger, it determines how many more epochs we are going to monitor to confirm no improvement, before we stop the training. In this case, we will set it to 5."
   ]
  },
  {
   "cell_type": "code",
   "execution_count": 17,
   "metadata": {},
   "outputs": [],
   "source": [
    "# Callbacks\n",
    "early_stop = EarlyStopping(monitor='val_loss',\n",
    "                            mode='auto',\n",
    "                            min_delta=0,\n",
    "                            patience=5\n",
    ")"
   ]
  },
  {
   "cell_type": "markdown",
   "metadata": {},
   "source": [
    "### 2.6 Compile the Model"
   ]
  },
  {
   "cell_type": "markdown",
   "metadata": {},
   "source": [
    "To compile the model, we will specify the following:\n",
    "  \n",
    "1. We will choose Adam as the `optimizer` to use as it gives good results for most cases, and a learning rate of 0.001 as a start.\n",
    "  \n",
    "2. The `loss` function will be binary crossentropy, since we are doing a binary classification.\n",
    "  \n",
    "3. The most suitable `metric` for our purpose would be accuracy, as we are concerned if the model can identify the Chinese characters correctly or not. We will also monitor the Area Under the Curve (AUC), which measures the ability of the classifier to distinguish between classes."
   ]
  },
  {
   "cell_type": "code",
   "execution_count": 18,
   "metadata": {},
   "outputs": [
    {
     "name": "stderr",
     "output_type": "stream",
     "text": [
      "WARNING:absl:At this time, the v2.11+ optimizer `tf.keras.optimizers.Adam` runs slowly on M1/M2 Macs, please use the legacy Keras optimizer instead, located at `tf.keras.optimizers.legacy.Adam`.\n",
      "WARNING:absl:There is a known slowdown when using v2.11+ Keras optimizers on M1/M2 Macs. Falling back to the legacy Keras optimizer, i.e., `tf.keras.optimizers.legacy.Adam`.\n"
     ]
    }
   ],
   "source": [
    "# Compile model\n",
    "opt = Adam(learning_rate=0.001) # optimizer with learning rate of 0.001\n",
    "\n",
    "# loss function\n",
    "model_cnn.compile(loss='binary_crossentropy', optimizer=opt, metrics=['accuracy', 'AUC'])"
   ]
  },
  {
   "cell_type": "markdown",
   "metadata": {},
   "source": [
    "### 2.7 Fit the Model"
   ]
  },
  {
   "cell_type": "markdown",
   "metadata": {},
   "source": [
    "Before we fit the model with the training data, we will set the following:\n",
    "  \n",
    "1. We will set the number of `epochs` to a higher number of 50 since we will have EarlyStopping as a means to stop the model from further training whenever necessary.\n",
    "  \n",
    "2. We will set the `batch_size` to a number that is a power of 2, in this case, 16."
   ]
  },
  {
   "cell_type": "code",
   "execution_count": 19,
   "metadata": {},
   "outputs": [],
   "source": [
    "# Set number of epoch and batch size\n",
    "epoch = 50\n",
    "batch_size = 16"
   ]
  },
  {
   "cell_type": "code",
   "execution_count": 20,
   "metadata": {},
   "outputs": [
    {
     "name": "stdout",
     "output_type": "stream",
     "text": [
      "Epoch 1/50\n"
     ]
    },
    {
     "name": "stderr",
     "output_type": "stream",
     "text": [
      "2024-05-09 12:47:07.428750: I tensorflow/core/common_runtime/executor.cc:1197] [/device:CPU:0] (DEBUG INFO) Executor start aborting (this does not indicate an error and you can ignore this message): INVALID_ARGUMENT: You must feed a value for placeholder tensor 'Placeholder/_0' with dtype int32\n",
      "\t [[{{node Placeholder/_0}}]]\n",
      "2024-05-09 12:47:07.459709: W tensorflow/tsl/platform/profile_utils/cpu_utils.cc:128] Failed to get CPU frequency: 0 Hz\n"
     ]
    },
    {
     "name": "stdout",
     "output_type": "stream",
     "text": [
      "75/76 [============================>.] - ETA: 0s - loss: 0.6956 - accuracy: 0.4819 - auc: 0.4753"
     ]
    },
    {
     "name": "stderr",
     "output_type": "stream",
     "text": [
      "2024-05-09 12:47:10.541165: I tensorflow/core/common_runtime/executor.cc:1197] [/device:CPU:0] (DEBUG INFO) Executor start aborting (this does not indicate an error and you can ignore this message): INVALID_ARGUMENT: You must feed a value for placeholder tensor 'Placeholder/_0' with dtype int32\n",
      "\t [[{{node Placeholder/_0}}]]\n"
     ]
    },
    {
     "name": "stdout",
     "output_type": "stream",
     "text": [
      "76/76 [==============================] - 4s 41ms/step - loss: 0.6955 - accuracy: 0.4822 - auc: 0.4763 - val_loss: 0.7000 - val_accuracy: 0.4056 - val_auc: 0.7277\n",
      "Epoch 2/50\n",
      "76/76 [==============================] - 3s 34ms/step - loss: 0.6297 - accuracy: 0.6777 - auc: 0.7231 - val_loss: 0.4168 - val_accuracy: 0.8394 - val_auc: 0.9308\n",
      "Epoch 3/50\n",
      "76/76 [==============================] - 3s 35ms/step - loss: 0.4050 - accuracy: 0.8277 - auc: 0.9015 - val_loss: 0.5336 - val_accuracy: 0.7972 - val_auc: 0.9615\n",
      "Epoch 4/50\n",
      "76/76 [==============================] - 3s 36ms/step - loss: 0.2980 - accuracy: 0.8766 - auc: 0.9468 - val_loss: 0.2840 - val_accuracy: 0.8930 - val_auc: 0.9575\n",
      "Epoch 5/50\n",
      "76/76 [==============================] - 3s 34ms/step - loss: 0.2581 - accuracy: 0.8989 - auc: 0.9597 - val_loss: 0.4364 - val_accuracy: 0.8310 - val_auc: 0.9689\n",
      "Epoch 6/50\n",
      "76/76 [==============================] - 3s 34ms/step - loss: 0.2334 - accuracy: 0.9080 - auc: 0.9673 - val_loss: 0.6594 - val_accuracy: 0.7718 - val_auc: 0.9605\n",
      "Epoch 7/50\n",
      "76/76 [==============================] - 3s 33ms/step - loss: 0.2597 - accuracy: 0.8956 - auc: 0.9594 - val_loss: 0.2520 - val_accuracy: 0.8901 - val_auc: 0.9697\n",
      "Epoch 8/50\n",
      "76/76 [==============================] - 3s 34ms/step - loss: 0.2012 - accuracy: 0.9263 - auc: 0.9749 - val_loss: 0.5325 - val_accuracy: 0.8056 - val_auc: 0.9694\n",
      "Epoch 9/50\n",
      "76/76 [==============================] - 3s 37ms/step - loss: 0.2030 - accuracy: 0.9221 - auc: 0.9742 - val_loss: 0.3831 - val_accuracy: 0.8451 - val_auc: 0.9700\n",
      "Epoch 10/50\n",
      "76/76 [==============================] - 2s 33ms/step - loss: 0.1810 - accuracy: 0.9296 - auc: 0.9801 - val_loss: 0.3344 - val_accuracy: 0.8817 - val_auc: 0.9781\n",
      "Epoch 11/50\n",
      "76/76 [==============================] - 3s 41ms/step - loss: 0.1583 - accuracy: 0.9437 - auc: 0.9845 - val_loss: 0.1937 - val_accuracy: 0.9380 - val_auc: 0.9770\n",
      "Epoch 12/50\n",
      "76/76 [==============================] - 3s 36ms/step - loss: 0.1674 - accuracy: 0.9437 - auc: 0.9817 - val_loss: 0.4548 - val_accuracy: 0.8197 - val_auc: 0.9695\n",
      "Epoch 13/50\n",
      "76/76 [==============================] - 3s 33ms/step - loss: 0.1542 - accuracy: 0.9420 - auc: 0.9854 - val_loss: 0.1763 - val_accuracy: 0.9296 - val_auc: 0.9814\n",
      "Epoch 14/50\n",
      "76/76 [==============================] - 3s 38ms/step - loss: 0.1383 - accuracy: 0.9437 - auc: 0.9879 - val_loss: 0.1774 - val_accuracy: 0.9437 - val_auc: 0.9797\n",
      "Epoch 15/50\n",
      "76/76 [==============================] - 3s 34ms/step - loss: 0.1310 - accuracy: 0.9586 - auc: 0.9890 - val_loss: 0.1399 - val_accuracy: 0.9521 - val_auc: 0.9861\n",
      "Epoch 16/50\n",
      "76/76 [==============================] - 3s 36ms/step - loss: 0.1529 - accuracy: 0.9445 - auc: 0.9856 - val_loss: 0.1697 - val_accuracy: 0.9465 - val_auc: 0.9819\n",
      "Epoch 17/50\n",
      "76/76 [==============================] - 3s 35ms/step - loss: 0.1384 - accuracy: 0.9437 - auc: 0.9873 - val_loss: 0.1406 - val_accuracy: 0.9521 - val_auc: 0.9863\n",
      "Epoch 18/50\n",
      "76/76 [==============================] - 3s 34ms/step - loss: 0.1085 - accuracy: 0.9619 - auc: 0.9924 - val_loss: 0.1851 - val_accuracy: 0.9408 - val_auc: 0.9865\n",
      "Epoch 19/50\n",
      "76/76 [==============================] - 3s 38ms/step - loss: 0.1134 - accuracy: 0.9561 - auc: 0.9922 - val_loss: 0.1362 - val_accuracy: 0.9606 - val_auc: 0.9885\n",
      "Epoch 20/50\n",
      "76/76 [==============================] - 3s 34ms/step - loss: 0.1182 - accuracy: 0.9569 - auc: 0.9915 - val_loss: 0.1879 - val_accuracy: 0.9239 - val_auc: 0.9815\n",
      "Epoch 21/50\n",
      "76/76 [==============================] - 3s 36ms/step - loss: 0.1088 - accuracy: 0.9602 - auc: 0.9924 - val_loss: 0.1775 - val_accuracy: 0.9268 - val_auc: 0.9853\n",
      "Epoch 22/50\n",
      "76/76 [==============================] - 3s 44ms/step - loss: 0.0969 - accuracy: 0.9619 - auc: 0.9935 - val_loss: 0.1960 - val_accuracy: 0.9239 - val_auc: 0.9864\n",
      "Epoch 23/50\n",
      "76/76 [==============================] - 3s 39ms/step - loss: 0.1110 - accuracy: 0.9619 - auc: 0.9918 - val_loss: 0.3207 - val_accuracy: 0.8845 - val_auc: 0.9822\n",
      "Epoch 24/50\n",
      "76/76 [==============================] - 3s 36ms/step - loss: 0.0975 - accuracy: 0.9619 - auc: 0.9940 - val_loss: 0.2283 - val_accuracy: 0.9211 - val_auc: 0.9854\n"
     ]
    }
   ],
   "source": [
    "# Fit model on training data\n",
    "history_cnn = model_cnn.fit(train_generator, \n",
    "                    batch_size=batch_size,\n",
    "                    validation_data=val_generator,\n",
    "                    epochs=epoch,\n",
    "                    callbacks=[early_stop],\n",
    "                    verbose=1 \n",
    "                   )"
   ]
  },
  {
   "cell_type": "code",
   "execution_count": 21,
   "metadata": {},
   "outputs": [],
   "source": [
    "# Save model\n",
    "model_cnn.save('models/self_trained_model_binary.keras')"
   ]
  },
  {
   "cell_type": "markdown",
   "metadata": {},
   "source": [
    "### 2.8 Visualize the Model Training"
   ]
  },
  {
   "cell_type": "markdown",
   "metadata": {},
   "source": [
    "#### 2.8.1 Loss over training epochs"
   ]
  },
  {
   "cell_type": "code",
   "execution_count": 22,
   "metadata": {},
   "outputs": [
    {
     "data": {
      "image/png": "[encoded data removed]",
      "text/plain": [
       "<Figure size 640x480 with 1 Axes>"
      ]
     },
     "metadata": {},
     "output_type": "display_data"
    }
   ],
   "source": [
    "plt.plot(history_cnn.history['loss'], label='Train Loss')\n",
    "plt.plot(history_cnn.history['val_loss'], label='Val Loss')\n",
    "plt.title('Self-Trained Binary Model - Loss')\n",
    "plt.xlabel('No. of Epochs')\n",
    "plt.legend();"
   ]
  },
  {
   "cell_type": "markdown",
   "metadata": {},
   "source": [
    "The validation loss measures the difference between the predicted values and the actual values in the validation dataset. A lower validation loss indicates that the model's predictions are closer to the actual values. Although there were spikes in the validation loss, the final loss value is much lower."
   ]
  },
  {
   "cell_type": "markdown",
   "metadata": {},
   "source": [
    "#### 2.8.2 Accuracy over training epochs"
   ]
  },
  {
   "cell_type": "code",
   "execution_count": 23,
   "metadata": {},
   "outputs": [
    {
     "data": {
      "image/png": "[encoded data removed]",
      "text/plain": [
       "<Figure size 640x480 with 1 Axes>"
      ]
     },
     "metadata": {},
     "output_type": "display_data"
    }
   ],
   "source": [
    "plt.plot(history_cnn.history['accuracy'], label='Train Accuracy')\n",
    "plt.plot(history_cnn.history['val_accuracy'], label='Val Accuracy')\n",
    "plt.title('Self-Trained Binary Model - Accuracy')\n",
    "plt.xlabel('No. of Epochs')\n",
    "plt.legend();"
   ]
  },
  {
   "cell_type": "markdown",
   "metadata": {},
   "source": [
    "The spikes in the validation accuracy was likely due to the spikes from the validation loss above. Eventually, the validation accuracy is slightly less than the train accuracy, which means that there is no overfitting and the model is able to generalize well to unseen data."
   ]
  },
  {
   "cell_type": "markdown",
   "metadata": {},
   "source": [
    "#### 2.8.3 AUC over training epochs"
   ]
  },
  {
   "cell_type": "code",
   "execution_count": 24,
   "metadata": {},
   "outputs": [
    {
     "data": {
      "image/png": "[encoded data removed]",
      "text/plain": [
       "<Figure size 640x480 with 1 Axes>"
      ]
     },
     "metadata": {},
     "output_type": "display_data"
    }
   ],
   "source": [
    "plt.plot(history_cnn.history['auc'], label='Train AUC')\n",
    "plt.plot(history_cnn.history['val_auc'], label='Val AUC')\n",
    "plt.title('Self-Trained Binary Model - AUC')\n",
    "plt.xlabel('No. of Epochs')\n",
    "plt.legend();"
   ]
  },
  {
   "cell_type": "markdown",
   "metadata": {},
   "source": [
    "AUC is a measure of the ability of a classifier to distinguish between clsses. The higher the AUC, the better the model's performance, with a perfect AUC score being 1. The AUC score for this model is very good as it is very close to 1."
   ]
  },
  {
   "cell_type": "markdown",
   "metadata": {},
   "source": [
    "#### 2.8.4 Summary of Metrics"
   ]
  },
  {
   "cell_type": "code",
   "execution_count": 35,
   "metadata": {},
   "outputs": [
    {
     "name": "stdout",
     "output_type": "stream",
     "text": [
      "Summary of metrics for Self-Trained Binary Model\n",
      "{'Train loss': 0.0974901095032692, 'Val loss': 0.22832639515399933, 'Train accuracy': 0.9618889689445496, 'Val accuracy': 0.9211267828941345, 'Train AUC': 0.9940363168716431, 'Val AUC': 0.9854363799095154}\n"
     ]
    }
   ],
   "source": [
    "summary_metrics = {}\n",
    "\n",
    "summary_metrics['Train loss'] = history_cnn.history['loss'][-1]\n",
    "summary_metrics['Val loss'] = history_cnn.history['val_loss'][-1]\n",
    "summary_metrics['Train accuracy'] = history_cnn.history['accuracy'][-1]\n",
    "summary_metrics['Val accuracy'] = history_cnn.history['val_accuracy'][-1]\n",
    "summary_metrics['Train AUC'] = history_cnn.history['auc'][-1]\n",
    "summary_metrics['Val AUC'] = history_cnn.history['val_auc'][-1]\n",
    "\n",
    "print('Summary of metrics for Self-Trained Binary Model')\n",
    "print(summary_metrics)"
   ]
  },
  {
   "cell_type": "markdown",
   "metadata": {},
   "source": [
    "#### 2.8.5 Confusion Matrix"
   ]
  },
  {
   "cell_type": "markdown",
   "metadata": {},
   "source": [
    "A confusion matrix shows the detailed breakdown of the model's predictions and the actual classes."
   ]
  },
  {
   "cell_type": "code",
   "execution_count": 26,
   "metadata": {},
   "outputs": [
    {
     "name": "stdout",
     "output_type": "stream",
     "text": [
      " 6/23 [======>.......................] - ETA: 0s"
     ]
    },
    {
     "name": "stderr",
     "output_type": "stream",
     "text": [
      "2024-05-09 12:48:14.461741: I tensorflow/core/common_runtime/executor.cc:1197] [/device:CPU:0] (DEBUG INFO) Executor start aborting (this does not indicate an error and you can ignore this message): INVALID_ARGUMENT: You must feed a value for placeholder tensor 'Placeholder/_0' with dtype int32\n",
      "\t [[{{node Placeholder/_0}}]]\n"
     ]
    },
    {
     "name": "stdout",
     "output_type": "stream",
     "text": [
      "23/23 [==============================] - 0s 12ms/step\n"
     ]
    }
   ],
   "source": [
    "# Make predictions on the test data\n",
    "predictions = model_cnn.predict(val_generator)\n",
    "\n",
    "# Extract true labels\n",
    "y_true = val_generator.classes\n",
    "\n",
    "# Extract predicted labels\n",
    "y_pred = [1 if pred[0]>0.5 else 0 for pred in predictions]"
   ]
  },
  {
   "cell_type": "code",
   "execution_count": 27,
   "metadata": {},
   "outputs": [
    {
     "data": {
      "image/png": "[encoded data removed]",
      "text/plain": [
       "<Figure size 640x480 with 2 Axes>"
      ]
     },
     "metadata": {},
     "output_type": "display_data"
    }
   ],
   "source": [
    "# Plot confusion matrix\n",
    "cm = confusion_matrix(y_true, y_pred)\n",
    "disp = ConfusionMatrixDisplay(confusion_matrix=cm, display_labels=['others', '我'])\n",
    "disp.plot(cmap='plasma')\n",
    "plt.show()"
   ]
  },
  {
   "cell_type": "markdown",
   "metadata": {},
   "source": [
    "The number of correct prediction for both classes is high, as seen in the yellow and orange boxes. The blue and purple boxes represent the data which are incorrectly predicted. This is in line with the high accuracy score we have seen above."
   ]
  },
  {
   "cell_type": "markdown",
   "metadata": {},
   "source": [
    "### 2.9 Summary"
   ]
  },
  {
   "cell_type": "markdown",
   "metadata": {},
   "source": [
    "Based on the above metrics, this binary model is performing reasonably well for unseen data. We are confident to use the same network architecture for multiclass classification of Chinese characters. We will explore this in the next notebook [03_Self_Trained_Model_Multiclass](03_Self_Trained_Model_Multiclass.ipynb)."
   ]
  }
 ],
 "metadata": {
  "kernelspec": {
   "display_name": "base",
   "language": "python",
   "name": "python3"
  },
  "language_info": {
   "codemirror_mode": {
    "name": "ipython",
    "version": 3
   },
   "file_extension": ".py",
   "mimetype": "text/x-python",
   "name": "python",
   "nbconvert_exporter": "python",
   "pygments_lexer": "ipython3",
   "version": "3.11.0"
  }
 },
 "nbformat": 4,
 "nbformat_minor": 2
}
